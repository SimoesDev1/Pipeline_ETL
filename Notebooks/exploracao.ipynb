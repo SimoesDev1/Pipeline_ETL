{
 "cells": [
  {
   "metadata": {},
   "cell_type": "markdown",
   "source": " Lendo os dados com Pandas",
   "id": "c72bb0a673babdd7"
  },
  {
   "metadata": {},
   "cell_type": "code",
   "source": "import pandas as pd",
   "id": "21c2c8710043f726",
   "outputs": [],
   "execution_count": null
  },
  {
   "metadata": {},
   "cell_type": "code",
   "source": [
    "path_json = \"../Data_raw/dados_empresaA.json\"\n",
    "\n",
    "#Lendo o arquivo json com pandas\n",
    "dados_json=pd.read_json(path_json)\n",
    "\n",
    "#Transformando em Dataframe\n",
    "df_json=pd.DataFrame(dados_json)\n",
    "df_json.head()\n"
   ],
   "id": "8c962b0b019fbb95",
   "outputs": [],
   "execution_count": null
  },
  {
   "metadata": {},
   "cell_type": "code",
   "source": [
    "path_csv = \"../Data_raw/dados_empresaB.csv\"\n",
    "\n",
    "#Lendo o arquivo csv com pandas\n",
    "dados_csv=pd.read_csv(path_csv)\n",
    "\n",
    "#Transformando em Dataframe\n",
    "df_csv=pd.DataFrame(dados_csv)\n",
    "df_csv.head()"
   ],
   "id": "56e07581db4804de",
   "outputs": [],
   "execution_count": null
  },
  {
   "metadata": {},
   "cell_type": "markdown",
   "source": "Nome das colunas do DataFrame Csv",
   "id": "b196505c2c52b0e0"
  },
  {
   "metadata": {},
   "cell_type": "code",
   "source": "print(df_csv.columns)",
   "id": "7b09f3eef73bf13d",
   "outputs": [],
   "execution_count": null
  },
  {
   "metadata": {},
   "cell_type": "markdown",
   "source": "Nome das colunas do DataFrame Json",
   "id": "10b313bea2f2e537"
  },
  {
   "metadata": {},
   "cell_type": "code",
   "source": "print(df_json.columns)\n",
   "id": "fbb4f91035efa9d5",
   "outputs": [],
   "execution_count": null
  },
  {
   "metadata": {},
   "cell_type": "markdown",
   "source": "Ajustando as Colunas para Padronizar\n",
   "id": "9f6faf4aa70a3a2e"
  },
  {
   "metadata": {},
   "cell_type": "code",
   "source": [
    "mapeamento_colunas = {\n",
    "    'Nome do Item': 'Nome do Produto',\n",
    "    'Classificação do Produto': 'Categoria do Produto',\n",
    "    'Valor em Reais (R$)': 'Preço do Produto (R$)',\n",
    "    'Nome da Loja': 'Filial',\n",
    "}\n",
    "\n",
    "df_csv.rename(columns=mapeamento_colunas, inplace=True)\n",
    "df_json.rename(columns=mapeamento_colunas, inplace=True)\n",
    "\n",
    "\n"
   ],
   "id": "5a5ceefd35edaa9b",
   "outputs": [],
   "execution_count": null
  },
  {
   "metadata": {},
   "cell_type": "markdown",
   "source": "Verificando se alterou as colunas",
   "id": "1f21ee18e753bdc6"
  },
  {
   "metadata": {},
   "cell_type": "code",
   "source": [
    "print(df_csv.columns)\n",
    "print(df_json.columns)\n",
    "\n"
   ],
   "id": "290d69bef391a3e3",
   "outputs": [],
   "execution_count": null
  },
  {
   "metadata": {},
   "cell_type": "code",
   "source": "df_csv.head()",
   "id": "e9dc11e6bd5a7b96",
   "outputs": [],
   "execution_count": null
  },
  {
   "metadata": {},
   "cell_type": "code",
   "source": [
    "df_final = pd.concat([df_json, df_csv], ignore_index=True)\n",
    "\n",
    "#Tratando os dados NaN, pois a coluna \"Data da Venda\" nao existia no csv\n",
    "df_final['Data da Venda'] = df_final['Data da Venda'].fillna('Indisponível')\n",
    "\n",
    "df_final.head(30)\n"
   ],
   "id": "f7a22342b1e0b671",
   "outputs": [],
   "execution_count": null
  },
  {
   "metadata": {},
   "cell_type": "markdown",
   "source": "Salvando os dados na camada Processed",
   "id": "513548743f2ec792"
  },
  {
   "metadata": {},
   "cell_type": "code",
   "source": [
    "path_dados = \"../Data_processed/dados_combinados.csv\"\n",
    "df_final.to_csv(path_dados, index=False)\n"
   ],
   "id": "d83cc45df6f7e8eb",
   "outputs": [],
   "execution_count": null
  }
 ],
 "metadata": {
  "kernelspec": {
   "display_name": "Python 3",
   "language": "python",
   "name": "python3"
  },
  "language_info": {
   "codemirror_mode": {
    "name": "ipython",
    "version": 2
   },
   "file_extension": ".py",
   "mimetype": "text/x-python",
   "name": "python",
   "nbconvert_exporter": "python",
   "pygments_lexer": "ipython2",
   "version": "2.7.6"
  }
 },
 "nbformat": 4,
 "nbformat_minor": 5
}
